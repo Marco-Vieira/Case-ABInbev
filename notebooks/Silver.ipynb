{
  "nbformat": 4,
  "nbformat_minor": 0,
  "metadata": {
    "colab": {
      "provenance": []
    },
    "kernelspec": {
      "name": "python3",
      "display_name": "Python 3"
    },
    "language_info": {
      "name": "python"
    }
  },
  "cells": [
    {
      "cell_type": "code",
      "execution_count": 1,
      "metadata": {
        "colab": {
          "base_uri": "https://localhost:8080/"
        },
        "id": "rCLHDyhcUMG7",
        "outputId": "f83f4679-9819-4634-ee38-049ada0f0d24",
        "collapsed": true
      },
      "outputs": [
        {
          "output_type": "stream",
          "name": "stdout",
          "text": [
            "Collecting pyspark\n",
            "  Downloading pyspark-3.5.2.tar.gz (317.3 MB)\n",
            "\u001b[2K     \u001b[90m━━━━━━━━━━━━━━━━━━━━━━━━━━━━━━━━━━━━━━━━\u001b[0m \u001b[32m317.3/317.3 MB\u001b[0m \u001b[31m4.4 MB/s\u001b[0m eta \u001b[36m0:00:00\u001b[0m\n",
            "\u001b[?25h  Preparing metadata (setup.py) ... \u001b[?25l\u001b[?25hdone\n",
            "Requirement already satisfied: requests in /usr/local/lib/python3.10/dist-packages (2.32.3)\n",
            "Requirement already satisfied: py4j==0.10.9.7 in /usr/local/lib/python3.10/dist-packages (from pyspark) (0.10.9.7)\n",
            "Requirement already satisfied: charset-normalizer<4,>=2 in /usr/local/lib/python3.10/dist-packages (from requests) (3.3.2)\n",
            "Requirement already satisfied: idna<4,>=2.5 in /usr/local/lib/python3.10/dist-packages (from requests) (3.7)\n",
            "Requirement already satisfied: urllib3<3,>=1.21.1 in /usr/local/lib/python3.10/dist-packages (from requests) (2.0.7)\n",
            "Requirement already satisfied: certifi>=2017.4.17 in /usr/local/lib/python3.10/dist-packages (from requests) (2024.7.4)\n",
            "Building wheels for collected packages: pyspark\n",
            "  Building wheel for pyspark (setup.py) ... \u001b[?25l\u001b[?25hdone\n",
            "  Created wheel for pyspark: filename=pyspark-3.5.2-py2.py3-none-any.whl size=317812365 sha256=298e8a31b2dd26b628f1d46aa052e31717766c63d686aea51d452b7c0abe43ce\n",
            "  Stored in directory: /root/.cache/pip/wheels/34/34/bd/03944534c44b677cd5859f248090daa9fb27b3c8f8e5f49574\n",
            "Successfully built pyspark\n",
            "Installing collected packages: pyspark\n",
            "Successfully installed pyspark-3.5.2\n",
            "Mounted at /content/drive\n"
          ]
        }
      ],
      "source": [
        "!pip install pyspark requests\n",
        "\n",
        "from pyspark.sql import SparkSession\n",
        "from pyspark.sql.functions import concat, lit, col\n",
        "from google.colab import drive\n",
        "drive.mount('/content/drive')"
      ]
    },
    {
      "cell_type": "code",
      "source": [
        "spark = SparkSession.builder.appName(\"Silver\").getOrCreate()"
      ],
      "metadata": {
        "id": "p1ZURZOKVjeZ"
      },
      "execution_count": 2,
      "outputs": []
    },
    {
      "cell_type": "code",
      "source": [
        "# Leitura dos dados que foram escritos na camada bronze\n",
        "bronze_file_path = '/content/drive/My Drive/bronze.json'\n",
        "df_bronze = spark.read.json(bronze_file_path)"
      ],
      "metadata": {
        "id": "XmriZ3NDVvi8"
      },
      "execution_count": 3,
      "outputs": []
    },
    {
      "cell_type": "code",
      "source": [
        "df_silver_drop.show()"
      ],
      "metadata": {
        "colab": {
          "base_uri": "https://localhost:8080/"
        },
        "id": "hQRKvDJWhI3W",
        "outputId": "666ffed1-e78f-4539-d3cd-14a513dfed89",
        "collapsed": true
      },
      "execution_count": 5,
      "outputs": [
        {
          "output_type": "stream",
          "name": "stdout",
          "text": [
            "+--------------------+--------------------+------------+--------------+--------------+\n",
            "|                  id|                name|brewery_type|          city|         state|\n",
            "+--------------------+--------------------+------------+--------------+--------------+\n",
            "|e5f3e72a-fee2-481...|12 Acres Brewing ...|       micro|     Killeshin|         Laois|\n",
            "|46839a79-b7bf-473...|        1817 Brewery|       micro|       okolona|   Mississippi|\n",
            "|84bd3b3c-bd2d-4e0...|     1717 Brewing Co|       micro|    Des Moines|          Iowa|\n",
            "|9f1852da-c312-42d...|10 Barrel Brewing...|       large|          Bend|        Oregon|\n",
            "|ee6d39c6-092f-462...|    16 Stone Brewpub|     brewpub|Holland Patent|      New York|\n",
            "|5128df48-79fc-4f0...|    (405) Brewing Co|       micro|        Norman|      Oklahoma|\n",
            "|b51f3cdf-60ff-4ae...| 18th Street Brewery|       micro|          Gary|       Indiana|\n",
            "|f41a0c47-ba9b-454...|1718 Ocracoke Bre...|     brewpub|      Ocracoke|North Carolina|\n",
            "|0faa0fb2-fffa-416...|12 West Brewing C...|       micro|          Mesa|       Arizona|\n",
            "|85192a9c-58a4-48c...|     16 Lots Brewing|     brewpub|         Mason|          Ohio|\n",
            "|9c5a66c8-cc13-416...|    (512) Brewing Co|       micro|        Austin|         Texas|\n",
            "|d5cb896d-3e99-4e1...|         127 Brewing|       micro|       Jackson|      Michigan|\n",
            "|06e9fffb-e820-45c...|    12Degree Brewing|     brewpub|    Louisville|      Colorado|\n",
            "|fe6b9893-b93e-43d...|1850 Brewing Company|       micro|      Mariposa|    California|\n",
            "|34e8c68b-6146-453...|1 of Us Brewing C...|       micro|Mount Pleasant|     Wisconsin|\n",
            "|7531dbd8-afc9-4b5...|10-56 Brewing Com...|       micro|          Knox|       Indiana|\n",
            "|4ffda196-dd59-44a...| 105 West Brewing Co|       micro|   Castle Rock|      Colorado|\n",
            "|dbde8235-2b55-4d8...|1905 Brewing Company|       micro|    Assumption|      Illinois|\n",
            "|6d14b220-8926-452...|10 Barrel Brewing Co|       large|          Bend|        Oregon|\n",
            "|1a1b2165-73ed-40a...|1840 Brewing Company|       micro|     Milwaukee|     Wisconsin|\n",
            "+--------------------+--------------------+------------+--------------+--------------+\n",
            "only showing top 20 rows\n",
            "\n"
          ]
        }
      ]
    },
    {
      "cell_type": "code",
      "source": [
        "# Retirando as duplicatas e escolhendo as colunas que serão relevantes\n",
        "df_silver = df_bronze.dropDuplicates()\n",
        "df_silver_drop = df_silver.select(\"id\", \"name\", \"brewery_type\", \"city\", \"state\")"
      ],
      "metadata": {
        "id": "8XQkih2ykxlf"
      },
      "execution_count": 6,
      "outputs": []
    },
    {
      "cell_type": "code",
      "source": [
        "# Renomeando as colunas para que a primeira letra seja maiúscula, apenas para uma melhor nomenclatura\n",
        "df_silver_rename = df_silver_drop.withColumnRenamed(\"id\", \"Id\") \\\n",
        "    .withColumnRenamed(\"name\", \"Name\") \\\n",
        "    .withColumnRenamed(\"brewery_type\", \"Brewery_type\") \\\n",
        "    .withColumnRenamed(\"city\", \"City\") \\\n",
        "    .withColumnRenamed(\"state\", \"State\") \\\n",
        "\n",
        "df_silver_rename.show(50)"
      ],
      "metadata": {
        "colab": {
          "base_uri": "https://localhost:8080/"
        },
        "collapsed": true,
        "id": "VZ3EDt3lh0cV",
        "outputId": "9b053adf-068a-4bd8-b515-9b4dc7209642"
      },
      "execution_count": 9,
      "outputs": [
        {
          "output_type": "stream",
          "name": "stdout",
          "text": [
            "+--------------------+--------------------+------------+----------------+--------------+\n",
            "|                  Id|                Name|Brewery_type|            City|         State|\n",
            "+--------------------+--------------------+------------+----------------+--------------+\n",
            "|e5f3e72a-fee2-481...|12 Acres Brewing ...|       micro|       Killeshin|         Laois|\n",
            "|46839a79-b7bf-473...|        1817 Brewery|       micro|         okolona|   Mississippi|\n",
            "|84bd3b3c-bd2d-4e0...|     1717 Brewing Co|       micro|      Des Moines|          Iowa|\n",
            "|9f1852da-c312-42d...|10 Barrel Brewing...|       large|            Bend|        Oregon|\n",
            "|ee6d39c6-092f-462...|    16 Stone Brewpub|     brewpub|  Holland Patent|      New York|\n",
            "|5128df48-79fc-4f0...|    (405) Brewing Co|       micro|          Norman|      Oklahoma|\n",
            "|b51f3cdf-60ff-4ae...| 18th Street Brewery|       micro|            Gary|       Indiana|\n",
            "|f41a0c47-ba9b-454...|1718 Ocracoke Bre...|     brewpub|        Ocracoke|North Carolina|\n",
            "|0faa0fb2-fffa-416...|12 West Brewing C...|       micro|            Mesa|       Arizona|\n",
            "|85192a9c-58a4-48c...|     16 Lots Brewing|     brewpub|           Mason|          Ohio|\n",
            "|9c5a66c8-cc13-416...|    (512) Brewing Co|       micro|          Austin|         Texas|\n",
            "|d5cb896d-3e99-4e1...|         127 Brewing|       micro|         Jackson|      Michigan|\n",
            "|06e9fffb-e820-45c...|    12Degree Brewing|     brewpub|      Louisville|      Colorado|\n",
            "|fe6b9893-b93e-43d...|1850 Brewing Company|       micro|        Mariposa|    California|\n",
            "|34e8c68b-6146-453...|1 of Us Brewing C...|       micro|  Mount Pleasant|     Wisconsin|\n",
            "|7531dbd8-afc9-4b5...|10-56 Brewing Com...|       micro|            Knox|       Indiana|\n",
            "|4ffda196-dd59-44a...| 105 West Brewing Co|       micro|     Castle Rock|      Colorado|\n",
            "|dbde8235-2b55-4d8...|1905 Brewing Company|       micro|      Assumption|      Illinois|\n",
            "|6d14b220-8926-452...|10 Barrel Brewing Co|       large|            Bend|        Oregon|\n",
            "|1a1b2165-73ed-40a...|1840 Brewing Company|       micro|       Milwaukee|     Wisconsin|\n",
            "|42aa37d5-8384-4ff...|         10K Brewing|       micro|           Anoka|     Minnesota|\n",
            "|84d621c4-81a5-44e...|1781 Brewing Company|       micro|    Spotsylvania|      Virginia|\n",
            "|fb94830f-6196-4f5...|12 West Brewing C...|       micro|         Gilbert|       Arizona|\n",
            "|ef970757-fe42-416...|10 Barrel Brewing Co|       large|       San Diego|    California|\n",
            "|4b677b60-fef1-42e...|14er Brewing Company|  proprietor|          Denver|      Colorado|\n",
            "|45119c56-345b-4ad...|  13 Stripes Brewery|     brewpub|         Taylors|South Carolina|\n",
            "|936c3d7e-5d54-445...|13 Virtues Brewin...|     brewpub|        Portland|        Oregon|\n",
            "|03118499-a3d0-4c2...|         101 Brewery|     brewpub|        Quilcene|    Washington|\n",
            "|58293321-14ae-49d...|     1188 Brewing Co|     brewpub|        John Day|        Oregon|\n",
            "|1ecc330f-6275-42a...|10 Torr Distillin...|       micro|            Reno|        Nevada|\n",
            "|ea4f30c0-bce6-416...|10 Barrel Brewing...|       large|           Boise|         Idaho|\n",
            "|896f26a1-d80e-479...|      180 and Tapped|       micro|      Coraopolis|  Pennsylvania|\n",
            "|5ae467af-66dc-4d7...|101 North Brewing...|      closed|        Petaluma|    California|\n",
            "|e54c2f02-acd6-417...| 122 West Brewing Co|      closed|      Bellingham|    Washington|\n",
            "|b7b68d22-5045-450...|    14 Lakes Brewery|       micro|       Crosslake|     Minnesota|\n",
            "|4f4b5b34-d572-4df...|        1912 Brewing|       micro|          Tucson|       Arizona|\n",
            "|d81ff708-b5d2-478...|12 Gates Brewing ...|     brewpub|   Williamsville|      New York|\n",
            "|6c53984f-fac1-4ea...|   14th Star Brewing|       micro|    Saint Albans|       Vermont|\n",
            "|e2e78bd8-80ff-4a6...|10 Barrel Brewing Co|       large|            Bend|        Oregon|\n",
            "|232e8f62-9afc-45f...|10th District Bre...|       micro|        Abington| Massachusetts|\n",
            "|add7f978-942e-4d5...| 18th Street Brewery|       micro|         Hammond|       Indiana|\n",
            "|5c53b314-ebab-4e3...|          1323 R & D|       micro|         Raleigh|North Carolina|\n",
            "|1988eb86-f0a2-467...|10 Barrel Brewing...|       large|          Denver|      Colorado|\n",
            "|08f78223-24f8-4b7...|11 Below Brewing ...|       micro|         Houston|         Texas|\n",
            "|950180bd-29c9-46b...|    13 Below Brewery|       micro|      Cincinnati|          Ohio|\n",
            "|284b44f8-6ccb-4cd...|  16 Mile Brewing Co|       micro|      Georgetown|      Delaware|\n",
            "|e432899b-7f58-455...|10 Barrel Brewing Co|       large|        Portland|        Oregon|\n",
            "|4788221a-a03b-458...|14 Cannons Brewin...|       micro|Westlake Village|    California|\n",
            "|d35b40b0-a3ff-487...|1623 Brewing CO, llc|    contract|    Westminister|      Maryland|\n",
            "|50521ef7-f543-4c5...|12welve Eyes Brewing|       micro|      Saint Paul|     Minnesota|\n",
            "+--------------------+--------------------+------------+----------------+--------------+\n",
            "\n"
          ]
        }
      ]
    },
    {
      "cell_type": "code",
      "source": [
        "# Criação de uma nova coluna concatenando os dados de duas para trazer a localização das cervejarias\n",
        "df_silver_partition = df_silver_rename.withColumn(\"Brewery_Location\", concat(col(\"City\"), lit(\", \"), col(\"State\")))\n",
        "df_silver_partition.show(50)"
      ],
      "metadata": {
        "colab": {
          "base_uri": "https://localhost:8080/"
        },
        "collapsed": true,
        "id": "un-zXzFGGjDL",
        "outputId": "65c782ff-5a3c-49ca-d59b-d433a9e8f423"
      },
      "execution_count": 10,
      "outputs": [
        {
          "output_type": "stream",
          "name": "stdout",
          "text": [
            "+--------------------+--------------------+------------+----------------+--------------+--------------------+\n",
            "|                  Id|                Name|Brewery_type|            City|         State|    Brewery_Location|\n",
            "+--------------------+--------------------+------------+----------------+--------------+--------------------+\n",
            "|e5f3e72a-fee2-481...|12 Acres Brewing ...|       micro|       Killeshin|         Laois|    Killeshin, Laois|\n",
            "|46839a79-b7bf-473...|        1817 Brewery|       micro|         okolona|   Mississippi|okolona, Mississippi|\n",
            "|84bd3b3c-bd2d-4e0...|     1717 Brewing Co|       micro|      Des Moines|          Iowa|    Des Moines, Iowa|\n",
            "|9f1852da-c312-42d...|10 Barrel Brewing...|       large|            Bend|        Oregon|        Bend, Oregon|\n",
            "|ee6d39c6-092f-462...|    16 Stone Brewpub|     brewpub|  Holland Patent|      New York|Holland Patent, N...|\n",
            "|5128df48-79fc-4f0...|    (405) Brewing Co|       micro|          Norman|      Oklahoma|    Norman, Oklahoma|\n",
            "|b51f3cdf-60ff-4ae...| 18th Street Brewery|       micro|            Gary|       Indiana|       Gary, Indiana|\n",
            "|f41a0c47-ba9b-454...|1718 Ocracoke Bre...|     brewpub|        Ocracoke|North Carolina|Ocracoke, North C...|\n",
            "|0faa0fb2-fffa-416...|12 West Brewing C...|       micro|            Mesa|       Arizona|       Mesa, Arizona|\n",
            "|85192a9c-58a4-48c...|     16 Lots Brewing|     brewpub|           Mason|          Ohio|         Mason, Ohio|\n",
            "|9c5a66c8-cc13-416...|    (512) Brewing Co|       micro|          Austin|         Texas|       Austin, Texas|\n",
            "|d5cb896d-3e99-4e1...|         127 Brewing|       micro|         Jackson|      Michigan|   Jackson, Michigan|\n",
            "|06e9fffb-e820-45c...|    12Degree Brewing|     brewpub|      Louisville|      Colorado|Louisville, Colorado|\n",
            "|fe6b9893-b93e-43d...|1850 Brewing Company|       micro|        Mariposa|    California|Mariposa, California|\n",
            "|34e8c68b-6146-453...|1 of Us Brewing C...|       micro|  Mount Pleasant|     Wisconsin|Mount Pleasant, W...|\n",
            "|7531dbd8-afc9-4b5...|10-56 Brewing Com...|       micro|            Knox|       Indiana|       Knox, Indiana|\n",
            "|4ffda196-dd59-44a...| 105 West Brewing Co|       micro|     Castle Rock|      Colorado|Castle Rock, Colo...|\n",
            "|dbde8235-2b55-4d8...|1905 Brewing Company|       micro|      Assumption|      Illinois|Assumption, Illinois|\n",
            "|6d14b220-8926-452...|10 Barrel Brewing Co|       large|            Bend|        Oregon|        Bend, Oregon|\n",
            "|1a1b2165-73ed-40a...|1840 Brewing Company|       micro|       Milwaukee|     Wisconsin|Milwaukee, Wisconsin|\n",
            "|42aa37d5-8384-4ff...|         10K Brewing|       micro|           Anoka|     Minnesota|    Anoka, Minnesota|\n",
            "|84d621c4-81a5-44e...|1781 Brewing Company|       micro|    Spotsylvania|      Virginia|Spotsylvania, Vir...|\n",
            "|fb94830f-6196-4f5...|12 West Brewing C...|       micro|         Gilbert|       Arizona|    Gilbert, Arizona|\n",
            "|ef970757-fe42-416...|10 Barrel Brewing Co|       large|       San Diego|    California|San Diego, Califo...|\n",
            "|4b677b60-fef1-42e...|14er Brewing Company|  proprietor|          Denver|      Colorado|    Denver, Colorado|\n",
            "|45119c56-345b-4ad...|  13 Stripes Brewery|     brewpub|         Taylors|South Carolina|Taylors, South Ca...|\n",
            "|936c3d7e-5d54-445...|13 Virtues Brewin...|     brewpub|        Portland|        Oregon|    Portland, Oregon|\n",
            "|03118499-a3d0-4c2...|         101 Brewery|     brewpub|        Quilcene|    Washington|Quilcene, Washington|\n",
            "|58293321-14ae-49d...|     1188 Brewing Co|     brewpub|        John Day|        Oregon|    John Day, Oregon|\n",
            "|1ecc330f-6275-42a...|10 Torr Distillin...|       micro|            Reno|        Nevada|        Reno, Nevada|\n",
            "|ea4f30c0-bce6-416...|10 Barrel Brewing...|       large|           Boise|         Idaho|        Boise, Idaho|\n",
            "|896f26a1-d80e-479...|      180 and Tapped|       micro|      Coraopolis|  Pennsylvania|Coraopolis, Penns...|\n",
            "|5ae467af-66dc-4d7...|101 North Brewing...|      closed|        Petaluma|    California|Petaluma, California|\n",
            "|e54c2f02-acd6-417...| 122 West Brewing Co|      closed|      Bellingham|    Washington|Bellingham, Washi...|\n",
            "|b7b68d22-5045-450...|    14 Lakes Brewery|       micro|       Crosslake|     Minnesota|Crosslake, Minnesota|\n",
            "|4f4b5b34-d572-4df...|        1912 Brewing|       micro|          Tucson|       Arizona|     Tucson, Arizona|\n",
            "|d81ff708-b5d2-478...|12 Gates Brewing ...|     brewpub|   Williamsville|      New York|Williamsville, Ne...|\n",
            "|6c53984f-fac1-4ea...|   14th Star Brewing|       micro|    Saint Albans|       Vermont|Saint Albans, Ver...|\n",
            "|e2e78bd8-80ff-4a6...|10 Barrel Brewing Co|       large|            Bend|        Oregon|        Bend, Oregon|\n",
            "|232e8f62-9afc-45f...|10th District Bre...|       micro|        Abington| Massachusetts|Abington, Massach...|\n",
            "|add7f978-942e-4d5...| 18th Street Brewery|       micro|         Hammond|       Indiana|    Hammond, Indiana|\n",
            "|5c53b314-ebab-4e3...|          1323 R & D|       micro|         Raleigh|North Carolina|Raleigh, North Ca...|\n",
            "|1988eb86-f0a2-467...|10 Barrel Brewing...|       large|          Denver|      Colorado|    Denver, Colorado|\n",
            "|08f78223-24f8-4b7...|11 Below Brewing ...|       micro|         Houston|         Texas|      Houston, Texas|\n",
            "|950180bd-29c9-46b...|    13 Below Brewery|       micro|      Cincinnati|          Ohio|    Cincinnati, Ohio|\n",
            "|284b44f8-6ccb-4cd...|  16 Mile Brewing Co|       micro|      Georgetown|      Delaware|Georgetown, Delaware|\n",
            "|e432899b-7f58-455...|10 Barrel Brewing Co|       large|        Portland|        Oregon|    Portland, Oregon|\n",
            "|4788221a-a03b-458...|14 Cannons Brewin...|       micro|Westlake Village|    California|Westlake Village,...|\n",
            "|d35b40b0-a3ff-487...|1623 Brewing CO, llc|    contract|    Westminister|      Maryland|Westminister, Mar...|\n",
            "|50521ef7-f543-4c5...|12welve Eyes Brewing|       micro|      Saint Paul|     Minnesota|Saint Paul, Minne...|\n",
            "+--------------------+--------------------+------------+----------------+--------------+--------------------+\n",
            "\n"
          ]
        }
      ]
    },
    {
      "cell_type": "code",
      "source": [
        "# Retirando os dados nulos, substituindo por espaços vazios\n",
        "df_silver_final = df_silver_partition.fillna({'Id': '', 'Name': '', 'Brewery_type': '', 'City': '', 'State': ''})\n",
        "df_silver_final.show(50)"
      ],
      "metadata": {
        "colab": {
          "base_uri": "https://localhost:8080/"
        },
        "collapsed": true,
        "id": "ZGgJKKCuC3A7",
        "outputId": "deeb322c-efc1-4c8d-a74d-8afeddb930b3"
      },
      "execution_count": 12,
      "outputs": [
        {
          "output_type": "stream",
          "name": "stdout",
          "text": [
            "+--------------------+--------------------+------------+----------------+--------------+--------------------+\n",
            "|                  Id|                Name|Brewery_type|            City|         State|    Brewery_Location|\n",
            "+--------------------+--------------------+------------+----------------+--------------+--------------------+\n",
            "|e5f3e72a-fee2-481...|12 Acres Brewing ...|       micro|       Killeshin|         Laois|    Killeshin, Laois|\n",
            "|46839a79-b7bf-473...|        1817 Brewery|       micro|         okolona|   Mississippi|okolona, Mississippi|\n",
            "|84bd3b3c-bd2d-4e0...|     1717 Brewing Co|       micro|      Des Moines|          Iowa|    Des Moines, Iowa|\n",
            "|9f1852da-c312-42d...|10 Barrel Brewing...|       large|            Bend|        Oregon|        Bend, Oregon|\n",
            "|ee6d39c6-092f-462...|    16 Stone Brewpub|     brewpub|  Holland Patent|      New York|Holland Patent, N...|\n",
            "|5128df48-79fc-4f0...|    (405) Brewing Co|       micro|          Norman|      Oklahoma|    Norman, Oklahoma|\n",
            "|b51f3cdf-60ff-4ae...| 18th Street Brewery|       micro|            Gary|       Indiana|       Gary, Indiana|\n",
            "|f41a0c47-ba9b-454...|1718 Ocracoke Bre...|     brewpub|        Ocracoke|North Carolina|Ocracoke, North C...|\n",
            "|0faa0fb2-fffa-416...|12 West Brewing C...|       micro|            Mesa|       Arizona|       Mesa, Arizona|\n",
            "|85192a9c-58a4-48c...|     16 Lots Brewing|     brewpub|           Mason|          Ohio|         Mason, Ohio|\n",
            "|9c5a66c8-cc13-416...|    (512) Brewing Co|       micro|          Austin|         Texas|       Austin, Texas|\n",
            "|d5cb896d-3e99-4e1...|         127 Brewing|       micro|         Jackson|      Michigan|   Jackson, Michigan|\n",
            "|06e9fffb-e820-45c...|    12Degree Brewing|     brewpub|      Louisville|      Colorado|Louisville, Colorado|\n",
            "|fe6b9893-b93e-43d...|1850 Brewing Company|       micro|        Mariposa|    California|Mariposa, California|\n",
            "|34e8c68b-6146-453...|1 of Us Brewing C...|       micro|  Mount Pleasant|     Wisconsin|Mount Pleasant, W...|\n",
            "|7531dbd8-afc9-4b5...|10-56 Brewing Com...|       micro|            Knox|       Indiana|       Knox, Indiana|\n",
            "|4ffda196-dd59-44a...| 105 West Brewing Co|       micro|     Castle Rock|      Colorado|Castle Rock, Colo...|\n",
            "|dbde8235-2b55-4d8...|1905 Brewing Company|       micro|      Assumption|      Illinois|Assumption, Illinois|\n",
            "|6d14b220-8926-452...|10 Barrel Brewing Co|       large|            Bend|        Oregon|        Bend, Oregon|\n",
            "|1a1b2165-73ed-40a...|1840 Brewing Company|       micro|       Milwaukee|     Wisconsin|Milwaukee, Wisconsin|\n",
            "|42aa37d5-8384-4ff...|         10K Brewing|       micro|           Anoka|     Minnesota|    Anoka, Minnesota|\n",
            "|84d621c4-81a5-44e...|1781 Brewing Company|       micro|    Spotsylvania|      Virginia|Spotsylvania, Vir...|\n",
            "|fb94830f-6196-4f5...|12 West Brewing C...|       micro|         Gilbert|       Arizona|    Gilbert, Arizona|\n",
            "|ef970757-fe42-416...|10 Barrel Brewing Co|       large|       San Diego|    California|San Diego, Califo...|\n",
            "|4b677b60-fef1-42e...|14er Brewing Company|  proprietor|          Denver|      Colorado|    Denver, Colorado|\n",
            "|45119c56-345b-4ad...|  13 Stripes Brewery|     brewpub|         Taylors|South Carolina|Taylors, South Ca...|\n",
            "|936c3d7e-5d54-445...|13 Virtues Brewin...|     brewpub|        Portland|        Oregon|    Portland, Oregon|\n",
            "|03118499-a3d0-4c2...|         101 Brewery|     brewpub|        Quilcene|    Washington|Quilcene, Washington|\n",
            "|58293321-14ae-49d...|     1188 Brewing Co|     brewpub|        John Day|        Oregon|    John Day, Oregon|\n",
            "|1ecc330f-6275-42a...|10 Torr Distillin...|       micro|            Reno|        Nevada|        Reno, Nevada|\n",
            "|ea4f30c0-bce6-416...|10 Barrel Brewing...|       large|           Boise|         Idaho|        Boise, Idaho|\n",
            "|896f26a1-d80e-479...|      180 and Tapped|       micro|      Coraopolis|  Pennsylvania|Coraopolis, Penns...|\n",
            "|5ae467af-66dc-4d7...|101 North Brewing...|      closed|        Petaluma|    California|Petaluma, California|\n",
            "|e54c2f02-acd6-417...| 122 West Brewing Co|      closed|      Bellingham|    Washington|Bellingham, Washi...|\n",
            "|b7b68d22-5045-450...|    14 Lakes Brewery|       micro|       Crosslake|     Minnesota|Crosslake, Minnesota|\n",
            "|4f4b5b34-d572-4df...|        1912 Brewing|       micro|          Tucson|       Arizona|     Tucson, Arizona|\n",
            "|d81ff708-b5d2-478...|12 Gates Brewing ...|     brewpub|   Williamsville|      New York|Williamsville, Ne...|\n",
            "|6c53984f-fac1-4ea...|   14th Star Brewing|       micro|    Saint Albans|       Vermont|Saint Albans, Ver...|\n",
            "|e2e78bd8-80ff-4a6...|10 Barrel Brewing Co|       large|            Bend|        Oregon|        Bend, Oregon|\n",
            "|232e8f62-9afc-45f...|10th District Bre...|       micro|        Abington| Massachusetts|Abington, Massach...|\n",
            "|add7f978-942e-4d5...| 18th Street Brewery|       micro|         Hammond|       Indiana|    Hammond, Indiana|\n",
            "|5c53b314-ebab-4e3...|          1323 R & D|       micro|         Raleigh|North Carolina|Raleigh, North Ca...|\n",
            "|1988eb86-f0a2-467...|10 Barrel Brewing...|       large|          Denver|      Colorado|    Denver, Colorado|\n",
            "|08f78223-24f8-4b7...|11 Below Brewing ...|       micro|         Houston|         Texas|      Houston, Texas|\n",
            "|950180bd-29c9-46b...|    13 Below Brewery|       micro|      Cincinnati|          Ohio|    Cincinnati, Ohio|\n",
            "|284b44f8-6ccb-4cd...|  16 Mile Brewing Co|       micro|      Georgetown|      Delaware|Georgetown, Delaware|\n",
            "|e432899b-7f58-455...|10 Barrel Brewing Co|       large|        Portland|        Oregon|    Portland, Oregon|\n",
            "|4788221a-a03b-458...|14 Cannons Brewin...|       micro|Westlake Village|    California|Westlake Village,...|\n",
            "|d35b40b0-a3ff-487...|1623 Brewing CO, llc|    contract|    Westminister|      Maryland|Westminister, Mar...|\n",
            "|50521ef7-f543-4c5...|12welve Eyes Brewing|       micro|      Saint Paul|     Minnesota|Saint Paul, Minne...|\n",
            "+--------------------+--------------------+------------+----------------+--------------+--------------------+\n",
            "\n"
          ]
        }
      ]
    },
    {
      "cell_type": "code",
      "source": [
        "# Escrita no drive em formato parquet\n",
        "df_silver_final.write.mode(\"overwrite\").partitionBy(\"Brewery_Location\").parquet(\"/content/drive/My Drive/silver.parquet\")"
      ],
      "metadata": {
        "id": "0nPEMxWolPTM"
      },
      "execution_count": 13,
      "outputs": []
    }
  ]
}