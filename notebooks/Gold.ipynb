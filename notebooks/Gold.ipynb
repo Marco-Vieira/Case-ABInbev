{
  "nbformat": 4,
  "nbformat_minor": 0,
  "metadata": {
    "colab": {
      "provenance": []
    },
    "kernelspec": {
      "name": "python3",
      "display_name": "Python 3"
    },
    "language_info": {
      "name": "python"
    }
  },
  "cells": [
    {
      "cell_type": "code",
      "execution_count": 1,
      "metadata": {
        "colab": {
          "base_uri": "https://localhost:8080/"
        },
        "id": "F3jGfqJ1jkZ_",
        "outputId": "24573924-7690-4cf4-bbf3-aa6412f06ee6",
        "collapsed": true
      },
      "outputs": [
        {
          "output_type": "stream",
          "name": "stdout",
          "text": [
            "Collecting pyspark\n",
            "  Downloading pyspark-3.5.2.tar.gz (317.3 MB)\n",
            "\u001b[2K     \u001b[90m━━━━━━━━━━━━━━━━━━━━━━━━━━━━━━━━━━━━━━━━\u001b[0m \u001b[32m317.3/317.3 MB\u001b[0m \u001b[31m3.9 MB/s\u001b[0m eta \u001b[36m0:00:00\u001b[0m\n",
            "\u001b[?25h  Preparing metadata (setup.py) ... \u001b[?25l\u001b[?25hdone\n",
            "Requirement already satisfied: requests in /usr/local/lib/python3.10/dist-packages (2.32.3)\n",
            "Requirement already satisfied: py4j==0.10.9.7 in /usr/local/lib/python3.10/dist-packages (from pyspark) (0.10.9.7)\n",
            "Requirement already satisfied: charset-normalizer<4,>=2 in /usr/local/lib/python3.10/dist-packages (from requests) (3.3.2)\n",
            "Requirement already satisfied: idna<4,>=2.5 in /usr/local/lib/python3.10/dist-packages (from requests) (3.7)\n",
            "Requirement already satisfied: urllib3<3,>=1.21.1 in /usr/local/lib/python3.10/dist-packages (from requests) (2.0.7)\n",
            "Requirement already satisfied: certifi>=2017.4.17 in /usr/local/lib/python3.10/dist-packages (from requests) (2024.7.4)\n",
            "Building wheels for collected packages: pyspark\n",
            "  Building wheel for pyspark (setup.py) ... \u001b[?25l\u001b[?25hdone\n",
            "  Created wheel for pyspark: filename=pyspark-3.5.2-py2.py3-none-any.whl size=317812365 sha256=7024419b06178f713ba8234ed87e76aebc2269cac11227ca55b5c4331e0e37cd\n",
            "  Stored in directory: /root/.cache/pip/wheels/34/34/bd/03944534c44b677cd5859f248090daa9fb27b3c8f8e5f49574\n",
            "Successfully built pyspark\n",
            "Installing collected packages: pyspark\n",
            "Successfully installed pyspark-3.5.2\n",
            "Mounted at /content/drive\n"
          ]
        }
      ],
      "source": [
        "!pip install pyspark requests\n",
        "\n",
        "from pyspark.sql import SparkSession\n",
        "from pyspark.sql.functions import count\n",
        "from google.colab import drive\n",
        "drive.mount('/content/drive')"
      ]
    },
    {
      "cell_type": "code",
      "source": [
        "spark = SparkSession.builder.appName(\"Gold\").getOrCreate()"
      ],
      "metadata": {
        "id": "Fu5Q0VPBjp0m"
      },
      "execution_count": 2,
      "outputs": []
    },
    {
      "cell_type": "code",
      "source": [
        "# Leitura dos dados no Drive\n",
        "df_silver = spark.read.parquet('/content/drive/My Drive/silver.parquet')\n",
        "df_silver.show(truncate=False)"
      ],
      "metadata": {
        "colab": {
          "base_uri": "https://localhost:8080/"
        },
        "id": "t41ARhcujvC4",
        "outputId": "9a924521-a908-41b5-ead4-5b032f474bcd",
        "collapsed": true
      },
      "execution_count": 3,
      "outputs": [
        {
          "output_type": "stream",
          "name": "stdout",
          "text": [
            "+------------------------------------+---------------------------------------------+------------+----------------+--------------+----------------------------+\n",
            "|Id                                  |Name                                         |Brewery_type|City            |State         |Brewery_Location            |\n",
            "+------------------------------------+---------------------------------------------+------------+----------------+--------------+----------------------------+\n",
            "|0faa0fb2-fffa-416d-9eab-46f67477c8ef|12 West Brewing Company - Production Facility|micro       |Mesa            |Arizona       |Mesa, Arizona               |\n",
            "|4788221a-a03b-458c-9084-4cadd69ade6d|14 Cannons Brewing Company                   |micro       |Westlake Village|California    |Westlake Village, California|\n",
            "|232e8f62-9afc-45f5-b4bc-582c26b5c43b|10th District Brewing Company                |micro       |Abington        |Massachusetts |Abington, Massachusetts     |\n",
            "|9f1852da-c312-42da-9a31-097bac81c4c0|10 Barrel Brewing Co - Bend Pub              |large       |Bend            |Oregon        |Bend, Oregon                |\n",
            "|6d14b220-8926-4521-8d19-b98a2d6ec3db|10 Barrel Brewing Co                         |large       |Bend            |Oregon        |Bend, Oregon                |\n",
            "|e2e78bd8-80ff-4a61-a65c-3bfbd9d76ce2|10 Barrel Brewing Co                         |large       |Bend            |Oregon        |Bend, Oregon                |\n",
            "|d81ff708-b5d2-478f-af6a-6d40f5beb9ac|12 Gates Brewing Company                     |brewpub     |Williamsville   |New York      |Williamsville, New York     |\n",
            "|34e8c68b-6146-453f-a4b9-1f6cd99a5ada|1 of Us Brewing Company                      |micro       |Mount Pleasant  |Wisconsin     |Mount Pleasant, Wisconsin   |\n",
            "|f41a0c47-ba9b-4547-bfed-fcbefe0fc74b|1718 Ocracoke Brewing                        |brewpub     |Ocracoke        |North Carolina|Ocracoke, North Carolina    |\n",
            "|5ae467af-66dc-4d7f-8839-44228f89b596|101 North Brewing Company                    |closed      |Petaluma        |California    |Petaluma, California        |\n",
            "|d35b40b0-a3ff-4878-a6ee-9caa2149b521|1623 Brewing CO, llc                         |contract    |Westminister    |Maryland      |Westminister, Maryland      |\n",
            "|45119c56-345b-4adc-b481-c5cf7bfe98c4|13 Stripes Brewery                           |brewpub     |Taylors         |South Carolina|Taylors, South Carolina     |\n",
            "|4b677b60-fef1-42e2-90ef-dadc1bd7fb06|14er Brewing Company                         |proprietor  |Denver          |Colorado      |Denver, Colorado            |\n",
            "|1988eb86-f0a2-4674-ba04-02454efa0d31|10 Barrel Brewing Co - Denver                |large       |Denver          |Colorado      |Denver, Colorado            |\n",
            "|1ecc330f-6275-42a5-b14e-00adbed62752|10 Torr Distilling and Brewing               |micro       |Reno            |Nevada        |Reno, Nevada                |\n",
            "|ee6d39c6-092f-4623-8099-5b8643f70dbe|16 Stone Brewpub                             |brewpub     |Holland Patent  |New York      |Holland Patent, New York    |\n",
            "|84d621c4-81a5-44e6-aca7-1566c2e67cc0|1781 Brewing Company                         |micro       |Spotsylvania    |Virginia      |Spotsylvania, Virginia      |\n",
            "|e54c2f02-acd6-4172-861d-fcfa54c8701a|122 West Brewing Co                          |closed      |Bellingham      |Washington    |Bellingham, Washington      |\n",
            "|ef970757-fe42-416f-931d-722451f1f59c|10 Barrel Brewing Co                         |large       |San Diego       |California    |San Diego, California       |\n",
            "|50521ef7-f543-4c5d-98b1-0d0ee1a2be01|12welve Eyes Brewing                         |micro       |Saint Paul      |Minnesota     |Saint Paul, Minnesota       |\n",
            "+------------------------------------+---------------------------------------------+------------+----------------+--------------+----------------------------+\n",
            "only showing top 20 rows\n",
            "\n"
          ]
        }
      ]
    },
    {
      "cell_type": "code",
      "source": [
        "# Agrupamento fazendo uma contagem de quantas cervejarias existem em cada localidade\n",
        "df_gold = df_silver.groupBy(\"Brewery_type\", \"Brewery_Location\").agg(count(\"*\").alias(\"Quantity\"))\n",
        "df_gold.show(50)"
      ],
      "metadata": {
        "colab": {
          "base_uri": "https://localhost:8080/"
        },
        "id": "krWVLoROJSMG",
        "outputId": "b1869924-4511-409b-f411-b0b90983f810",
        "collapsed": true
      },
      "execution_count": 4,
      "outputs": [
        {
          "output_type": "stream",
          "name": "stdout",
          "text": [
            "+------------+--------------------+--------+\n",
            "|Brewery_type|    Brewery_Location|Quantity|\n",
            "+------------+--------------------+--------+\n",
            "|       micro|Mariposa, California|       1|\n",
            "|       micro|Assumption, Illinois|       1|\n",
            "|      closed|Bellingham, Washi...|       1|\n",
            "|       micro|Saint Paul, Minne...|       1|\n",
            "|       micro|Abington, Massach...|       1|\n",
            "|       micro|       Mesa, Arizona|       1|\n",
            "|     brewpub|Ocracoke, North C...|       1|\n",
            "|  proprietor|    Denver, Colorado|       1|\n",
            "|       micro|Milwaukee, Wisconsin|       1|\n",
            "|       large|        Boise, Idaho|       1|\n",
            "|     brewpub|Taylors, South Ca...|       1|\n",
            "|       micro|Westlake Village,...|       1|\n",
            "|       micro|    Killeshin, Laois|       1|\n",
            "|       micro|        Reno, Nevada|       1|\n",
            "|     brewpub|Williamsville, Ne...|       1|\n",
            "|       micro|Castle Rock, Colo...|       1|\n",
            "|    contract|Westminister, Mar...|       1|\n",
            "|       large|        Bend, Oregon|       3|\n",
            "|     brewpub|Holland Patent, N...|       1|\n",
            "|       large|    Denver, Colorado|       1|\n",
            "|       large|San Diego, Califo...|       1|\n",
            "|       micro|Spotsylvania, Vir...|       1|\n",
            "|       micro|Mount Pleasant, W...|       1|\n",
            "|      closed|Petaluma, California|       1|\n",
            "|       micro|       Knox, Indiana|       1|\n",
            "|       micro|    Norman, Oklahoma|       1|\n",
            "|     brewpub|    Portland, Oregon|       1|\n",
            "|       micro|Crosslake, Minnesota|       1|\n",
            "|       large|    Portland, Oregon|       1|\n",
            "|     brewpub|    John Day, Oregon|       1|\n",
            "|       micro|       Gary, Indiana|       1|\n",
            "|       micro|    Cincinnati, Ohio|       1|\n",
            "|       micro|    Anoka, Minnesota|       1|\n",
            "|       micro|Raleigh, North Ca...|       1|\n",
            "|       micro|      Houston, Texas|       1|\n",
            "|       micro|     Tucson, Arizona|       1|\n",
            "|     brewpub|Louisville, Colorado|       1|\n",
            "|       micro|okolona, Mississippi|       1|\n",
            "|       micro|Georgetown, Delaware|       1|\n",
            "|       micro|Saint Albans, Ver...|       1|\n",
            "|       micro|   Jackson, Michigan|       1|\n",
            "|       micro|Coraopolis, Penns...|       1|\n",
            "|     brewpub|Quilcene, Washington|       1|\n",
            "|       micro|       Austin, Texas|       1|\n",
            "|       micro|    Des Moines, Iowa|       1|\n",
            "|     brewpub|         Mason, Ohio|       1|\n",
            "|       micro|    Hammond, Indiana|       1|\n",
            "|       micro|    Gilbert, Arizona|       1|\n",
            "+------------+--------------------+--------+\n",
            "\n"
          ]
        }
      ]
    },
    {
      "cell_type": "code",
      "source": [
        "# Escrita no  Drive\n",
        "df_gold.write.mode(\"overwrite\").parquet(\"/content/drive/My Drive/gold.parquet\")"
      ],
      "metadata": {
        "id": "YBaHuYiKRlfl"
      },
      "execution_count": 5,
      "outputs": []
    }
  ]
}