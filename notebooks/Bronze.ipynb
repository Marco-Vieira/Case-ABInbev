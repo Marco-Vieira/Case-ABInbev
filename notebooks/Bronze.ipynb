{
  "nbformat": 4,
  "nbformat_minor": 0,
  "metadata": {
    "colab": {
      "provenance": []
    },
    "kernelspec": {
      "name": "python3",
      "display_name": "Python 3"
    },
    "language_info": {
      "name": "python"
    }
  },
  "cells": [
    {
      "cell_type": "code",
      "execution_count": null,
      "metadata": {
        "colab": {
          "base_uri": "https://localhost:8080/"
        },
        "id": "kuy_sjzNgvpy",
        "outputId": "1ebd953b-1251-4735-fc01-9db9ac886b10",
        "collapsed": true
      },
      "outputs": [
        {
          "output_type": "stream",
          "name": "stdout",
          "text": [
            "Collecting pyspark\n",
            "  Downloading pyspark-3.5.2.tar.gz (317.3 MB)\n",
            "\u001b[2K     \u001b[90m━━━━━━━━━━━━━━━━━━━━━━━━━━━━━━━━━━━━━━━━\u001b[0m \u001b[32m317.3/317.3 MB\u001b[0m \u001b[31m4.0 MB/s\u001b[0m eta \u001b[36m0:00:00\u001b[0m\n",
            "\u001b[?25h  Preparing metadata (setup.py) ... \u001b[?25l\u001b[?25hdone\n",
            "Requirement already satisfied: requests in /usr/local/lib/python3.10/dist-packages (2.32.3)\n",
            "Requirement already satisfied: py4j==0.10.9.7 in /usr/local/lib/python3.10/dist-packages (from pyspark) (0.10.9.7)\n",
            "Requirement already satisfied: charset-normalizer<4,>=2 in /usr/local/lib/python3.10/dist-packages (from requests) (3.3.2)\n",
            "Requirement already satisfied: idna<4,>=2.5 in /usr/local/lib/python3.10/dist-packages (from requests) (3.7)\n",
            "Requirement already satisfied: urllib3<3,>=1.21.1 in /usr/local/lib/python3.10/dist-packages (from requests) (2.0.7)\n",
            "Requirement already satisfied: certifi>=2017.4.17 in /usr/local/lib/python3.10/dist-packages (from requests) (2024.7.4)\n",
            "Building wheels for collected packages: pyspark\n",
            "  Building wheel for pyspark (setup.py) ... \u001b[?25l\u001b[?25hdone\n",
            "  Created wheel for pyspark: filename=pyspark-3.5.2-py2.py3-none-any.whl size=317812365 sha256=e524221476e937f5a693855e57e8ec0a62e3c441037946293670d7953ae31400\n",
            "  Stored in directory: /root/.cache/pip/wheels/34/34/bd/03944534c44b677cd5859f248090daa9fb27b3c8f8e5f49574\n",
            "Successfully built pyspark\n",
            "Installing collected packages: pyspark\n",
            "Successfully installed pyspark-3.5.2\n",
            "Drive already mounted at /content/drive; to attempt to forcibly remount, call drive.mount(\"/content/drive\", force_remount=True).\n"
          ]
        }
      ],
      "source": [
        "!pip install pyspark requests\n",
        "\n",
        "from pyspark.sql import SparkSession\n",
        "from google.colab import drive\n",
        "drive.mount('/content/drive')\n",
        "import requests\n",
        "import json"
      ]
    },
    {
      "cell_type": "code",
      "source": [
        "spark = SparkSession.builder.appName(\"Bronze\").getOrCreate()"
      ],
      "metadata": {
        "id": "Kqxf8eBvhYqK"
      },
      "execution_count": null,
      "outputs": []
    },
    {
      "cell_type": "code",
      "source": [
        "api_url = \"https://api.openbrewerydb.org/breweries\"\n",
        "\n",
        "# Recebe os dados da API\n",
        "response = requests.get(api_url)\n",
        "\n",
        "# Verifica se a requisição foi bem-sucedida\n",
        "if response.status_code == 200:\n",
        "    data = response.json()\n",
        "else:\n",
        "    raise Exception(f\"Failed to fetch data from API. Status code: {response.status_code}\")"
      ],
      "metadata": {
        "id": "7pAyPrbEhr4i"
      },
      "execution_count": null,
      "outputs": []
    },
    {
      "cell_type": "code",
      "source": [
        "# Cria um DataFrame a partir dos dados JSON\n",
        "df = spark.read.json(spark.sparkContext.parallelize([json.dumps(data)]))\n",
        "\n",
        "# Exibe o DataFrame\n",
        "df.show(50)"
      ],
      "metadata": {
        "colab": {
          "base_uri": "https://localhost:8080/"
        },
        "id": "mVVJBJ95hwfI",
        "outputId": "985dc73c-baf7-445e-df55-d7f80753c171"
      },
      "execution_count": null,
      "outputs": [
        {
          "output_type": "stream",
          "name": "stdout",
          "text": [
            "+--------------------+---------+---------+------------+----------------+-------------+--------------------+-----------------+------------------+--------------------+------------+-----------+--------------+--------------+--------------------+--------------------+\n",
            "|           address_1|address_2|address_3|brewery_type|            city|      country|                  id|         latitude|         longitude|                name|       phone|postal_code|         state|state_province|              street|         website_url|\n",
            "+--------------------+---------+---------+------------+----------------+-------------+--------------------+-----------------+------------------+--------------------+------------+-----------+--------------+--------------+--------------------+--------------------+\n",
            "|      1716 Topeka St|     NULL|     NULL|       micro|          Norman|United States|5128df48-79fc-4f0...|      35.25738891|      -97.46818222|    (405) Brewing Co|  4058160490| 73069-8224|      Oklahoma|      Oklahoma|      1716 Topeka St|http://www.405bre...|\n",
            "|407 Radam Ln Ste ...|     NULL|     NULL|       micro|          Austin|United States|9c5a66c8-cc13-416...|             NULL|              NULL|    (512) Brewing Co|  5129211545| 78745-1197|         Texas|         Texas|407 Radam Ln Ste ...|http://www.512bre...|\n",
            "| 8100 Washington Ave|     NULL|     NULL|       micro|  Mount Pleasant|United States|34e8c68b-6146-453...|42.72010826899558|-87.88336350209435|1 of Us Brewing C...|  2624847553| 53406-3920|     Wisconsin|     Wisconsin| 8100 Washington Ave|https://www.1ofus...|\n",
            "|           1501 E St|     NULL|     NULL|       large|       San Diego|United States|ef970757-fe42-416...|        32.714813|       -117.129593|10 Barrel Brewing Co|  6195782311| 92101-6618|    California|    California|           1501 E St| http://10barrel.com|\n",
            "|       62970 18th St|     NULL|     NULL|       large|            Bend|United States|6d14b220-8926-452...|      44.08683531|       -121.281706|10 Barrel Brewing Co|  5415851007| 97701-9847|        Oregon|        Oregon|       62970 18th St|http://www.10barr...|\n",
            "|1135 NW Galveston...|     NULL|     NULL|       large|            Bend|United States|e2e78bd8-80ff-4a6...|       44.0575649|      -121.3288021|10 Barrel Brewing Co|  5415851007| 97703-2465|        Oregon|        Oregon|1135 NW Galveston...|                NULL|\n",
            "| 1411 NW Flanders St|     NULL|     NULL|       large|        Portland|United States|e432899b-7f58-455...|       45.5259786|      -122.6855056|10 Barrel Brewing Co|  5032241700| 97209-2620|        Oregon|        Oregon| 1411 NW Flanders St|http://www.10barr...|\n",
            "|    62950 NE 18th St|     NULL|     NULL|       large|            Bend|United States|9f1852da-c312-42d...|       44.0912109|      -121.2809536|10 Barrel Brewing...|  5415851007|      97701|        Oregon|        Oregon|    62950 NE 18th St|                NULL|\n",
            "|    826 W Bannock St|     NULL|     NULL|       large|           Boise|United States|ea4f30c0-bce6-416...|        43.618516|       -116.202929|10 Barrel Brewing...|  2083445870| 83702-5857|         Idaho|         Idaho|    826 W Bannock St|http://www.10barr...|\n",
            "|      2620 Walnut St|     NULL|     NULL|       large|          Denver|United States|1988eb86-f0a2-467...|       39.7592508|      -104.9853655|10 Barrel Brewing...|  7205738992| 80205-2231|      Colorado|      Colorado|      2620 Walnut St|                NULL|\n",
            "|         490 Mill St|     NULL|     NULL|       micro|            Reno|United States|1ecc330f-6275-42a...|       39.5171702|      -119.7732015|10 Torr Distillin...|  7755307014|      89502|        Nevada|        Nevada|         490 Mill St|http://www.10torr...|\n",
            "|       400 Brown Cir|     NULL|     NULL|       micro|            Knox|United States|7531dbd8-afc9-4b5...|        41.289715|        -86.627954|10-56 Brewing Com...|  6308165790|      46534|       Indiana|       Indiana|       400 Brown Cir|                NULL|\n",
            "|294793 US Highway...|     NULL|     NULL|     brewpub|        Quilcene|United States|03118499-a3d0-4c2...|      47.82347577|      -122.8755823|         101 Brewery|  3607656485| 98376-9000|    Washington|    Washington|294793 US Highway...|http://www.101bre...|\n",
            "| 1304 Scott St Ste D|     NULL|     NULL|      closed|        Petaluma|United States|5ae467af-66dc-4d7...|      38.27029381|       -122.665055|101 North Brewing...|  7077534934| 94954-7100|    California|    California| 1304 Scott St Ste D|http://www.101nor...|\n",
            "|        1043 Park St|     NULL|     NULL|       micro|     Castle Rock|United States|4ffda196-dd59-44a...|      39.38269495|      -104.8667206| 105 West Brewing Co|  3033257321| 80109-1585|      Colorado|      Colorado|        1043 Park St|http://www.105wes...|\n",
            "|        2005 2nd Ave|     NULL|     NULL|       micro|           Anoka|United States|42aa37d5-8384-4ff...|      45.19812039|      -93.38952559|         10K Brewing|  7633924753| 55303-2243|     Minnesota|     Minnesota|        2005 2nd Ave|  http://10KBrew.com|\n",
            "|   491 Washington St|     NULL|     NULL|       micro|        Abington|United States|232e8f62-9afc-45f...|      42.10591754|      -70.94594149|10th District Bre...|  7813071554| 02351-2419| Massachusetts| Massachusetts|   491 Washington St|http://www.10thdi...|\n",
            "|   6820 Bourgeois Rd|     NULL|     NULL|       micro|         Houston|United States|08f78223-24f8-4b7...|       29.9515464|       -95.5186591|11 Below Brewing ...|  2814442337| 77066-3107|         Texas|         Texas|   6820 Bourgeois Rd|http://www.11belo...|\n",
            "|       141 E Main St|     NULL|     NULL|     brewpub|        John Day|United States|58293321-14ae-49d...|       44.4146563|      -118.9218754|     1188 Brewing Co|  5415751188| 97845-1210|        Oregon|        Oregon|       141 E Main St|http://www.1188br...|\n",
            "|      Unnamed Street| Clonmore|     NULL|       micro|       Killeshin|      Ireland|e5f3e72a-fee2-481...|      52.84930763|      -6.979343891|12 Acres Brewing ...|353599107299|   R93 X3X8|         Laois|         Laois|      Unnamed Street|https://12acresbr...|\n",
            "|80 Earhart Dr Ste 20|     NULL|     NULL|     brewpub|   Williamsville|United States|d81ff708-b5d2-478...|             NULL|              NULL|12 Gates Brewing ...|  7169066600| 14221-7804|      New York|      New York|80 Earhart Dr Ste 20|http://www.12gate...|\n",
            "|3000 E Ray Rd Bldg 6|     NULL|     NULL|       micro|         Gilbert|United States|fb94830f-6196-4f5...|             NULL|              NULL|12 West Brewing C...|  6023395014| 85296-7832|       Arizona|       Arizona|3000 E Ray Rd Bldg 6|http://www.12west...|\n",
            "|                NULL|     NULL|     NULL|       micro|            Mesa|United States|0faa0fb2-fffa-416...|        33.436188|      -111.5860662|12 West Brewing C...|        NULL|      85207|       Arizona|       Arizona|                NULL|                NULL|\n",
            "|    2416 Meridian St|     NULL|     NULL|      closed|      Bellingham|United States|e54c2f02-acd6-417...|       48.7621709|       -122.485982| 122 West Brewing Co|  3603063285| 98225-2405|    Washington|    Washington|    2416 Meridian St|https://www.122we...|\n",
            "|     3090 Shirley Dr|     NULL|     NULL|       micro|         Jackson|United States|d5cb896d-3e99-4e1...|      42.28667212|      -84.43116792|         127 Brewing|  5172581346| 49201-7010|      Michigan|      Michigan|     3090 Shirley Dr|                NULL|\n",
            "|         820 Main St|     NULL|     NULL|     brewpub|      Louisville|United States|06e9fffb-e820-45c...|       39.9782443|      -105.1319826|    12Degree Brewing|  3035791004| 80027-1865|      Colorado|      Colorado|         820 Main St|http://www.12degr...|\n",
            "|141 E 4th St Ste LL2|     NULL|     NULL|       micro|      Saint Paul|United States|50521ef7-f543-4c5...|             NULL|              NULL|12welve Eyes Brewing|  6514938106| 55101-1639|     Minnesota|     Minnesota|141 E 4th St Ste LL2|http://www.12welv...|\n",
            "|      7391 Forbes Rd|     NULL|     NULL|       micro|      Cincinnati|United States|950180bd-29c9-46b...|      39.12639764|      -84.70634815|    13 Below Brewery|  5139750613| 45233-1013|          Ohio|          Ohio|      7391 Forbes Rd|http://www.13belo...|\n",
            "|250 Mill St, Suit...|     NULL|     NULL|     brewpub|         Taylors|United States|45119c56-345b-4ad...|             NULL|              NULL|  13 Stripes Brewery|  8643491430|      29687|South Carolina|South Carolina|250 Mill St, Suit...|http://www.13Stri...|\n",
            "|6410 SE Milwaukie...|     NULL|     NULL|     brewpub|        Portland|United States|936c3d7e-5d54-445...|       45.4762536|      -122.6487531|13 Virtues Brewin...|  5032393831| 97202-5518|        Oregon|        Oregon|6410 SE Milwaukie...|http://www.13virt...|\n",
            "|1323 Capital Blvd...|     NULL|     NULL|       micro|         Raleigh|United States|5c53b314-ebab-4e3...|             NULL|              NULL|          1323 R & D|  9199775654| 27603-1117|North Carolina|North Carolina|1323 Capital Blvd...|http://www.1323rn...|\n",
            "|31125 Via Colinas...|     NULL|     NULL|       micro|Westlake Village|United States|4788221a-a03b-458...|         34.15334|       -118.802397|14 Cannons Brewin...|  8186996165| 91362-3974|    California|    California|31125 Via Colinas...|http://14cannons.com|\n",
            "|                NULL|     NULL|     NULL|       micro|       Crosslake|United States|b7b68d22-5045-450...|             NULL|              NULL|    14 Lakes Brewery|  2186924129|      56442|     Minnesota|     Minnesota|                NULL|                NULL|\n",
            "|      2801 Walnut St|     NULL|     NULL|  proprietor|          Denver|United States|4b677b60-fef1-42e...|       39.7614112|      -104.9839636|14er Brewing Company|  7207731437| 80205-2235|      Colorado|      Colorado|      2801 Walnut St|http://www.14erBr...|\n",
            "| 133 N Main St Ste 7|     NULL|     NULL|       micro|    Saint Albans|United States|6c53984f-fac1-4ea...|             NULL|              NULL|   14th Star Brewing|  8025285988| 05478-1735|       Vermont|       Vermont| 133 N Main St Ste 7|http://www.14thst...|\n",
            "|      753 Reading Rd|     NULL|     NULL|     brewpub|           Mason|United States|85192a9c-58a4-48c...|       39.3545967|       -84.3183801|     16 Lots Brewing|  5134863672| 45040-1303|          Ohio|          Ohio|      753 Reading Rd|http://www.16lots...|\n",
            "|    413 S Bedford St|     NULL|     NULL|       micro|      Georgetown|United States|284b44f8-6ccb-4cd...|       38.6788938|      -75.37816436|  16 Mile Brewing Co|  3022538816| 19947-1849|      Delaware|      Delaware|    413 S Bedford St|http://www.16mile...|\n",
            "|        9542 Main St|     NULL|     NULL|     brewpub|  Holland Patent|United States|ee6d39c6-092f-462...|      43.24211175|       -75.2565195|    16 Stone Brewpub|  3158658500|      13354|      New York|      New York|        9542 Main St|http://www.16ston...|\n",
            "|1146 colonel Josh...|     NULL|     NULL|    contract|    Westminister|United States|d35b40b0-a3ff-487...|             NULL|              NULL|1623 Brewing CO, llc|        NULL|      21157|      Maryland|      Maryland|1146 colonel Josh...|                NULL|\n",
            "|     322 E Court Ave|     NULL|     NULL|       micro|      Des Moines|United States|84bd3b3c-bd2d-4e0...|       41.5872267|       -93.6120353|     1717 Brewing Co|  5152437868| 50309-2015|          Iowa|          Iowa|     322 E Court Ave|http://1717brewin...|\n",
            "|1129 Irvin Garris...|     NULL|     NULL|     brewpub|        Ocracoke|United States|f41a0c47-ba9b-454...|      35.10715368|      -75.97176063|1718 Ocracoke Bre...|  2529282337|      27960|North Carolina|North Carolina|1129 Irvin Garris...|http://www.ocraco...|\n",
            "|      11109 Plank Rd|     NULL|     NULL|       micro|    Spotsylvania|United States|84d621c4-81a5-44e...|             NULL|              NULL|1781 Brewing Company|  5408412598| 22553-4258|      Virginia|      Virginia|      11109 Plank Rd|                NULL|\n",
            "|    2010 A State Ave|     NULL|     NULL|       micro|      Coraopolis|United States|896f26a1-d80e-479...|      40.50984957|      -80.15020356|      180 and Tapped|  4127375273|      15108|  Pennsylvania|  Pennsylvania|    2010 A State Ave|http://www.180and...|\n",
            "|100 B South Olive St|     NULL|     NULL|       micro|         okolona|United States|46839a79-b7bf-473...|        34.001703|        -88.750264|        1817 Brewery|  6623055907|      38860|   Mississippi|   Mississippi|100 B South Olive St|                NULL|\n",
            "|       342 E Ward St|     NULL|     NULL|       micro|       Milwaukee|United States|1a1b2165-73ed-40a...|      43.00436242|      -87.90606942|1840 Brewing Company|  4142364056| 53207-1348|     Wisconsin|     Wisconsin|       342 E Ward St|http://www.1840br...|\n",
            "|                NULL|     NULL|     NULL|       micro|        Mariposa|United States|fe6b9893-b93e-43d...|        37.570148|      -119.9036592|1850 Brewing Company|        NULL|      95338|    California|    California|                NULL|http://www.1850re...|\n",
            "|     5725 Miller Ave|     NULL|     NULL|       micro|            Gary|United States|b51f3cdf-60ff-4ae...|      41.59928343|      -87.26887786| 18th Street Brewery|        NULL| 46403-2871|       Indiana|       Indiana|     5725 Miller Ave|http://www.18thst...|\n",
            "|     5417 Oakley Ave|     NULL|     NULL|       micro|         Hammond|United States|add7f978-942e-4d5...|      41.61556796|        -87.517422| 18th Street Brewery|        NULL| 46320-1817|       Indiana|       Indiana|     5417 Oakley Ave|                NULL|\n",
            "|  1301 S Chestnut St|     NULL|     NULL|       micro|      Assumption|United States|dbde8235-2b55-4d8...|       39.5172564|       -89.0503635|1905 Brewing Company|  2172549374| 62510-8504|      Illinois|      Illinois|  1301 S Chestnut St|http://1905Brewin...|\n",
            "|2045 N Forbes Blv...|     NULL|     NULL|       micro|          Tucson|United States|4f4b5b34-d572-4df...|      32.24673727|      -110.9927505|        1912 Brewing|  5202564851| 85745-1444|       Arizona|       Arizona|2045 N Forbes Blv...|http://www.1912br...|\n",
            "+--------------------+---------+---------+------------+----------------+-------------+--------------------+-----------------+------------------+--------------------+------------+-----------+--------------+--------------+--------------------+--------------------+\n",
            "\n"
          ]
        }
      ]
    },
    {
      "cell_type": "code",
      "source": [
        "# Realiza escrita no diretório do Drive\n",
        "bronze_file_path = '/content/drive/My Drive/bronze.json'\n",
        "df.write.mode(\"overwrite\").json(bronze_file_path)"
      ],
      "metadata": {
        "id": "0T_A9Srks3M0"
      },
      "execution_count": null,
      "outputs": []
    }
  ]
}